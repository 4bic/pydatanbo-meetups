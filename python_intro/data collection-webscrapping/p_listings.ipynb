{
 "cells": [
  {
   "cell_type": "markdown",
   "metadata": {},
   "source": [
    "<div class=\"alert alert-success\"><b>\n",
    "Data Collection from websites\n",
    "</div>"
   ]
  },
  {
   "cell_type": "markdown",
   "metadata": {},
   "source": [
    "# Property listings"
   ]
  },
  {
   "cell_type": "code",
   "execution_count": 2,
   "metadata": {},
   "outputs": [],
   "source": [
    "import numpy as np\n",
    "import pandas as pd\n",
    "import requests\n",
    "from bs4 import BeautifulSoup\n",
    "\n",
    "%matplotlib inline"
   ]
  },
  {
   "cell_type": "markdown",
   "metadata": {},
   "source": [
    "#### Access Houses in NBO webpage "
   ]
  },
  {
   "cell_type": "code",
   "execution_count": 3,
   "metadata": {},
   "outputs": [
    {
     "data": {
      "text/plain": [
       "30"
      ]
     },
     "execution_count": 3,
     "metadata": {},
     "output_type": "execute_result"
    }
   ],
   "source": [
    "r = requests.get(\"https://house.jumia.co.ke/for-sale/\")\n",
    "c = r.content\n",
    "soup = BeautifulSoup(c, \"html.parser\")\n",
    "# check source code of loaded page\n",
    "# print(soup.prettify())\n",
    "\n",
    "# # extract division\n",
    "all = soup.find_all(\"div\",{\"class\":\"listing-info\"})\n",
    "len(all)"
   ]
  },
  {
   "cell_type": "markdown",
   "metadata": {},
   "source": [
    "#### check  price element "
   ]
  },
  {
   "cell_type": "code",
   "execution_count": 4,
   "metadata": {},
   "outputs": [
    {
     "data": {
      "text/plain": [
       "'KSh 5250000'"
      ]
     },
     "execution_count": 4,
     "metadata": {},
     "output_type": "execute_result"
    }
   ],
   "source": [
    "price = all[0].find(\"span\",{\"class\":\"listing-price\"}).text.replace(\",\", \"\")\n",
    "price"
   ]
  },
  {
   "cell_type": "markdown",
   "metadata": {},
   "source": [
    "## Data Collection \n",
    "\n",
    "        - Crawl web pages \n",
    "        - Extract selected elements \n",
    "        - Colect dict and store in a csv"
   ]
  },
  {
   "cell_type": "code",
   "execution_count": 6,
   "metadata": {},
   "outputs": [],
   "source": [
    "base_url = \"https://house.jumia.co.ke/nairobi/house/for-sale/?page=\"\n",
    "data = []\n",
    "#   crawl though available pages to extract page no. links\n",
    "for page in range(1,51,1): #used 51 since its the last page\n",
    "    prop_page = base_url+str(page)+str(\"&size=30\")\n",
    "    r = requests.get(prop_page)\n",
    "    c = r.content\n",
    "    soup = BeautifulSoup(c, \"html.parser\")\n",
    "    all = soup.find_all(\"div\",{\"class\":\"listing-info\"})\n",
    "    # collect price, detail and size from each page\n",
    "    for item in all:\n",
    "        d={}\n",
    "    #  property value\n",
    "        d[\"value\"] = item.find(\"span\",{\"class\":\"listing-price\"}).text.replace(\",\",\"\")\n",
    "    #   property description \n",
    "        d[\"desc\"] = (item.find(\"a\",{\"class\":\"main-link\"}).text).strip() \n",
    "    #   property size / bedroom capacity\n",
    "        try:\n",
    "             d[\"size\"] = item.find(\"span\",{\"class\":\"listing-attributes-value\"}).text.replace(\"\\n\",\"\")\n",
    "        except:\n",
    "            d[\"size\"] = None\n",
    "    #   property address\n",
    "        d[\"location\"] = item.find(\"p\",{\"class\":\"listing-address icon-location\"}).text\n",
    "    \n",
    "    #   collect data in a list\n",
    "        data.append(d)\n",
    "        \n",
    "    #   store data in a dataframe\n",
    "        df = pd.DataFrame(data)\n",
    "    #   save to csv\n",
    "        df.to_csv(\"scrapped_data/listing.csv\")"
   ]
  },
  {
   "cell_type": "markdown",
   "metadata": {},
   "source": [
    "## Load Data to DataFrame for cleaning"
   ]
  },
  {
   "cell_type": "code",
   "execution_count": 7,
   "metadata": {
    "scrolled": true
   },
   "outputs": [
    {
     "data": {
      "text/html": [
       "<div>\n",
       "<style>\n",
       "    .dataframe thead tr:only-child th {\n",
       "        text-align: right;\n",
       "    }\n",
       "\n",
       "    .dataframe thead th {\n",
       "        text-align: left;\n",
       "    }\n",
       "\n",
       "    .dataframe tbody tr th {\n",
       "        vertical-align: top;\n",
       "    }\n",
       "</style>\n",
       "<table border=\"1\" class=\"dataframe\">\n",
       "  <thead>\n",
       "    <tr style=\"text-align: right;\">\n",
       "      <th></th>\n",
       "      <th>desc</th>\n",
       "      <th>location</th>\n",
       "      <th>size</th>\n",
       "      <th>value</th>\n",
       "    </tr>\n",
       "  </thead>\n",
       "  <tbody>\n",
       "    <tr>\n",
       "      <th>0</th>\n",
       "      <td>ROCKVILLA GARDENS</td>\n",
       "      <td>Kangundo Road., Kangundo Road, Nairobi, Nairobi</td>\n",
       "      <td>3 Bedrooms</td>\n",
       "      <td>KSh 2950000</td>\n",
       "    </tr>\n",
       "    <tr>\n",
       "      <th>1</th>\n",
       "      <td>A Lovely And Modern 4 Bedroom House All En Sui...</td>\n",
       "      <td>Mombasa Road., Mombasa Road, Nairobi, Nairobi</td>\n",
       "      <td>4 Bedrooms</td>\n",
       "      <td>KSh 32000000</td>\n",
       "    </tr>\n",
       "    <tr>\n",
       "      <th>2</th>\n",
       "      <td>Mombasa Rd Near Kapa, 4 Bedroom Maisonette for...</td>\n",
       "      <td>Syokimau, Syokimau, Nairobi, Nairobi</td>\n",
       "      <td>4 Bedrooms</td>\n",
       "      <td>KSh 12800000</td>\n",
       "    </tr>\n",
       "    <tr>\n",
       "      <th>3</th>\n",
       "      <td>Farm(3 ACRES) and Redhill House for sale</td>\n",
       "      <td>Red Hill, Nairobi, Nairobi</td>\n",
       "      <td>4 Bedrooms</td>\n",
       "      <td>KSh 180000000</td>\n",
       "    </tr>\n",
       "    <tr>\n",
       "      <th>4</th>\n",
       "      <td>Beautiful 3 Bedroom Bungalow With Own Compound...</td>\n",
       "      <td>Saika Kangundo Road, Kangundo Road, Nairobi, N...</td>\n",
       "      <td>3 Bedrooms</td>\n",
       "      <td>KSh 6700000</td>\n",
       "    </tr>\n",
       "  </tbody>\n",
       "</table>\n",
       "</div>"
      ],
      "text/plain": [
       "                                                desc  \\\n",
       "0                                  ROCKVILLA GARDENS   \n",
       "1  A Lovely And Modern 4 Bedroom House All En Sui...   \n",
       "2  Mombasa Rd Near Kapa, 4 Bedroom Maisonette for...   \n",
       "3           Farm(3 ACRES) and Redhill House for sale   \n",
       "4  Beautiful 3 Bedroom Bungalow With Own Compound...   \n",
       "\n",
       "                                            location        size  \\\n",
       "0    Kangundo Road., Kangundo Road, Nairobi, Nairobi  3 Bedrooms   \n",
       "1      Mombasa Road., Mombasa Road, Nairobi, Nairobi  4 Bedrooms   \n",
       "2               Syokimau, Syokimau, Nairobi, Nairobi  4 Bedrooms   \n",
       "3                         Red Hill, Nairobi, Nairobi  4 Bedrooms   \n",
       "4  Saika Kangundo Road, Kangundo Road, Nairobi, N...  3 Bedrooms   \n",
       "\n",
       "           value  \n",
       "0    KSh 2950000  \n",
       "1   KSh 32000000  \n",
       "2   KSh 12800000  \n",
       "3  KSh 180000000  \n",
       "4    KSh 6700000  "
      ]
     },
     "execution_count": 7,
     "metadata": {},
     "output_type": "execute_result"
    }
   ],
   "source": [
    "df1 = pd.read_csv('scrapped_data/listing.csv',\n",
    "                      usecols=['desc', 'location', 'size', 'value'])\n",
    "\n",
    "df1.head()"
   ]
  },
  {
   "cell_type": "markdown",
   "metadata": {},
   "source": [
    "#### clean columns"
   ]
  },
  {
   "cell_type": "code",
   "execution_count": 8,
   "metadata": {
    "scrolled": true
   },
   "outputs": [
    {
     "data": {
      "text/html": [
       "<div>\n",
       "<style>\n",
       "    .dataframe thead tr:only-child th {\n",
       "        text-align: right;\n",
       "    }\n",
       "\n",
       "    .dataframe thead th {\n",
       "        text-align: left;\n",
       "    }\n",
       "\n",
       "    .dataframe tbody tr th {\n",
       "        vertical-align: top;\n",
       "    }\n",
       "</style>\n",
       "<table border=\"1\" class=\"dataframe\">\n",
       "  <thead>\n",
       "    <tr style=\"text-align: right;\">\n",
       "      <th></th>\n",
       "      <th>desc</th>\n",
       "      <th>location</th>\n",
       "      <th>size</th>\n",
       "      <th>value</th>\n",
       "    </tr>\n",
       "  </thead>\n",
       "  <tbody>\n",
       "    <tr>\n",
       "      <th>0</th>\n",
       "      <td>ROCKVILLA GARDENS</td>\n",
       "      <td>Kangundo Road., Kangundo Road, Nairobi, Nairobi</td>\n",
       "      <td>3</td>\n",
       "      <td>2950000</td>\n",
       "    </tr>\n",
       "    <tr>\n",
       "      <th>1</th>\n",
       "      <td>A Lovely And Modern 4 Bedroom House All En Sui...</td>\n",
       "      <td>Mombasa Road., Mombasa Road, Nairobi, Nairobi</td>\n",
       "      <td>4</td>\n",
       "      <td>32000000</td>\n",
       "    </tr>\n",
       "    <tr>\n",
       "      <th>2</th>\n",
       "      <td>Mombasa Rd Near Kapa, 4 Bedroom Maisonette for...</td>\n",
       "      <td>Syokimau, Syokimau, Nairobi, Nairobi</td>\n",
       "      <td>4</td>\n",
       "      <td>12800000</td>\n",
       "    </tr>\n",
       "    <tr>\n",
       "      <th>3</th>\n",
       "      <td>Farm(3 ACRES) and Redhill House for sale</td>\n",
       "      <td>Red Hill, Nairobi, Nairobi</td>\n",
       "      <td>4</td>\n",
       "      <td>180000000</td>\n",
       "    </tr>\n",
       "    <tr>\n",
       "      <th>4</th>\n",
       "      <td>Beautiful 3 Bedroom Bungalow With Own Compound...</td>\n",
       "      <td>Saika Kangundo Road, Kangundo Road, Nairobi, N...</td>\n",
       "      <td>3</td>\n",
       "      <td>6700000</td>\n",
       "    </tr>\n",
       "  </tbody>\n",
       "</table>\n",
       "</div>"
      ],
      "text/plain": [
       "                                                desc  \\\n",
       "0                                  ROCKVILLA GARDENS   \n",
       "1  A Lovely And Modern 4 Bedroom House All En Sui...   \n",
       "2  Mombasa Rd Near Kapa, 4 Bedroom Maisonette for...   \n",
       "3           Farm(3 ACRES) and Redhill House for sale   \n",
       "4  Beautiful 3 Bedroom Bungalow With Own Compound...   \n",
       "\n",
       "                                            location size      value  \n",
       "0    Kangundo Road., Kangundo Road, Nairobi, Nairobi    3    2950000  \n",
       "1      Mombasa Road., Mombasa Road, Nairobi, Nairobi    4   32000000  \n",
       "2               Syokimau, Syokimau, Nairobi, Nairobi    4   12800000  \n",
       "3                         Red Hill, Nairobi, Nairobi    4  180000000  \n",
       "4  Saika Kangundo Road, Kangundo Road, Nairobi, N...    3    6700000  "
      ]
     },
     "execution_count": 8,
     "metadata": {},
     "output_type": "execute_result"
    }
   ],
   "source": [
    "# Save value as Numeric in Ksh\n",
    "df1['value'] = pd.to_numeric(df1['value'].str.replace(\"Contact seller for price|~|KSh| \",\"0\"))\n",
    "\n",
    "# Size to no of Bedrooms\n",
    "df1['size'] = df1['size'].str.split(' ').str[0]\n",
    "\n",
    "df1.head()"
   ]
  },
  {
   "cell_type": "code",
   "execution_count": 11,
   "metadata": {},
   "outputs": [],
   "source": [
    "# save clean dataset\n",
    "df1.to_csv('cleaned_listing_data.csv')"
   ]
  },
  {
   "cell_type": "code",
   "execution_count": 12,
   "metadata": {},
   "outputs": [
    {
     "data": {
      "text/plain": [
       "(1500, 4)"
      ]
     },
     "execution_count": 12,
     "metadata": {},
     "output_type": "execute_result"
    }
   ],
   "source": [
    "# df1.drop(562,axis=0,inplace=True)\n",
    "df1.shape\n",
    "\n"
   ]
  }
 ],
 "metadata": {
  "kernelspec": {
   "display_name": "Python 3",
   "language": "python",
   "name": "python3"
  },
  "language_info": {
   "codemirror_mode": {
    "name": "ipython",
    "version": 3
   },
   "file_extension": ".py",
   "mimetype": "text/x-python",
   "name": "python",
   "nbconvert_exporter": "python",
   "pygments_lexer": "ipython3",
   "version": "3.6.5"
  }
 },
 "nbformat": 4,
 "nbformat_minor": 2
}
